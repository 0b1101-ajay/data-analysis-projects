{
 "cells": [
  {
   "cell_type": "markdown",
   "id": "1b133184",
   "metadata": {},
   "source": [
    "# The structure of a Dash app\n",
    "\n",
    "* Setting up your environment \n",
    "* Exploring Dash and other supporting packages \n",
    "* Understanding the general structure of a Dash app \n",
    "* Creating and running the simplest app \n",
    "* Adding HTML and other components to the app \n",
    "* Learning how to structure the layout and managing themes "
   ]
  },
  {
   "cell_type": "code",
   "execution_count": null,
   "id": "e3761340",
   "metadata": {},
   "outputs": [],
   "source": [
    "import dash\n",
    "import dash_html_components as html\n",
    "\n",
    "app = dash.Dash(__name__)\n",
    "\n",
    "app.layout = html.Div([\n",
    "    html.H1('Hello, World!')\n",
    "])\n",
    "\n",
    "\n",
    "if __name__ == '__main__':\n",
    "    app.run_server(debug=True)\n"
   ]
  }
 ],
 "metadata": {
  "kernelspec": {
   "display_name": "Python 3 (ipykernel)",
   "language": "python",
   "name": "python3"
  },
  "language_info": {
   "codemirror_mode": {
    "name": "ipython",
    "version": 3
   },
   "file_extension": ".py",
   "mimetype": "text/x-python",
   "name": "python",
   "nbconvert_exporter": "python",
   "pygments_lexer": "ipython3",
   "version": "3.9.12"
  }
 },
 "nbformat": 4,
 "nbformat_minor": 5
}
